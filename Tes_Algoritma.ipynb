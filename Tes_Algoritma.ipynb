{
  "nbformat": 4,
  "nbformat_minor": 0,
  "metadata": {
    "colab": {
      "provenance": []
    },
    "kernelspec": {
      "name": "python3",
      "display_name": "Python 3"
    },
    "language_info": {
      "name": "python"
    }
  },
  "cells": [
    {
      "cell_type": "markdown",
      "source": [
        "# Tes Algoritma"
      ],
      "metadata": {
        "id": "R-jPtNjDLpWr"
      }
    },
    {
      "cell_type": "markdown",
      "source": [
        "## Soal 1\n",
        "Terdapat string \"NEGIE1\", silahkan reverse alphabet nya dengan angka tetap diakhir kata Hasil = \"EIGEN1\"\n",
        "\n"
      ],
      "metadata": {
        "id": "Yg_ZHgVkLtXP"
      }
    },
    {
      "cell_type": "code",
      "execution_count": 6,
      "metadata": {
        "colab": {
          "base_uri": "https://localhost:8080/"
        },
        "id": "e_Xw3T7-Lj3J",
        "outputId": "821ff0d8-4b38-420f-bce4-c2770a4400bd"
      },
      "outputs": [
        {
          "output_type": "stream",
          "name": "stdout",
          "text": [
            "EIGEN1\n"
          ]
        }
      ],
      "source": [
        "def reverse_alphabet(string):\n",
        "  huruf = \"\"\n",
        "  angka = \"\"\n",
        "  for char in string:\n",
        "      if char.isalpha():\n",
        "          huruf += char\n",
        "      else:\n",
        "          angka += char\n",
        "  huruf = huruf[::-1]\n",
        "  return huruf + angka\n",
        "\n",
        "string = \"NEGIE1\"\n",
        "hasil = reverse_alphabet(string)\n",
        "print(hasil)"
      ]
    },
    {
      "cell_type": "markdown",
      "source": [
        "# Soal 2\n",
        "Diberikan contoh sebuah kalimat, silahkan cari kata terpanjang dari kalimat tersebut, jika ada kata dengan panjang yang sama silahkan ambil salah satu\n"
      ],
      "metadata": {
        "id": "fxNAhkKNMTTF"
      }
    },
    {
      "cell_type": "code",
      "source": [
        "sentence = \"Saya sangat senang mengerjakan soal algoritma\""
      ],
      "metadata": {
        "colab": {
          "base_uri": "https://localhost:8080/"
        },
        "id": "VHutjNSbMpEn",
        "outputId": "00082b1b-bf2f-4c75-b1a2-24756e874093"
      },
      "execution_count": 1,
      "outputs": [
        {
          "output_type": "execute_result",
          "data": {
            "text/plain": [
              "45"
            ]
          },
          "metadata": {},
          "execution_count": 1
        }
      ]
    },
    {
      "cell_type": "code",
      "source": [
        "sentence = \"Saya sangat senang mengerjakan soal algoritma\"\n",
        "\n",
        "def longest(sentence):\n",
        "  longest_char_count = 0\n",
        "  longest_char = None\n",
        "  split_sentence = sentence.split()\n",
        "  for i in split_sentence:\n",
        "    if len(i) > longest_char_count:\n",
        "      longest_char_count = len(i)\n",
        "      longest_char = i\n",
        "  print (f'{longest_char}: {longest_char_count} characters')\n",
        "\n",
        "longest(sentence)\n"
      ],
      "metadata": {
        "colab": {
          "base_uri": "https://localhost:8080/"
        },
        "id": "6FjkUOejMVZH",
        "outputId": "556acdfd-4ea8-46ba-8aa8-06c20ed6d8c0"
      },
      "execution_count": 4,
      "outputs": [
        {
          "output_type": "stream",
          "name": "stdout",
          "text": [
            "mengerjakan: 11 characters\n"
          ]
        }
      ]
    },
    {
      "cell_type": "markdown",
      "source": [
        "## Soal 3\n",
        "erdapat dua buah array yaitu array INPUT dan array QUERY, silahkan tentukan berapa kali kata dalam QUERY terdapat pada array INPUT\n",
        "Contoh:\n",
        "\n",
        "INPUT = ['xc', 'dz', 'bbb', 'dz']  \n",
        "QUERY = ['bbb', 'ac', 'dz']  \n",
        "\n",
        "OUTPUT = [1, 0, 2] karena kata 'bbb' terdapat 1 pada INPUT, kata 'ac' tidak ada pada INPUT, dan kata 'dz' terdapat 2 pada INPUT\n"
      ],
      "metadata": {
        "id": "cg2ox5AnNneW"
      }
    },
    {
      "cell_type": "code",
      "source": [
        "def query_count(input, query):\n",
        "  hasil = []\n",
        "  for kata in query:\n",
        "    jumlah = input.count(kata)\n",
        "    hasil.append(jumlah)\n",
        "  return hasil\n",
        "\n",
        "input = ['xc', 'dz', 'bbb', 'dz']\n",
        "query = ['bbb', 'ac', 'dz']\n",
        "query_count(input, query)"
      ],
      "metadata": {
        "colab": {
          "base_uri": "https://localhost:8080/"
        },
        "id": "1HEN9KETNjy7",
        "outputId": "e34c3927-775a-427e-acad-67fb6c8a9f38"
      },
      "execution_count": 5,
      "outputs": [
        {
          "output_type": "execute_result",
          "data": {
            "text/plain": [
              "[1, 0, 2]"
            ]
          },
          "metadata": {},
          "execution_count": 5
        }
      ]
    },
    {
      "cell_type": "markdown",
      "source": [
        "## Soal 4\n",
        "Silahkan cari hasil dari pengurangan dari jumlah diagonal sebuah matrik NxN Contoh:\n",
        "Contoh:\n",
        "\n",
        "Matrix = [[1, 2, 0], [4, 5, 6], [7, 8, 9]]\n",
        "\n",
        "diagonal pertama = 1 + 5 + 9 = 15\n",
        "diagonal kedua = 0 + 5 + 7 = 12\n",
        "\n",
        "maka hasilnya adalah 15 - 12 = 3"
      ],
      "metadata": {
        "id": "zWISsRHWOzif"
      }
    },
    {
      "cell_type": "code",
      "source": [
        "import numpy as np\n",
        "\n",
        "def selisih_diagonal(matrix):\n",
        "  matrix = np.array(matrix)\n",
        "  diagonal_utama = np.trace(matrix)\n",
        "  diagonal_sekunder = np.trace(np.fliplr(matrix))\n",
        "  return diagonal_utama - diagonal_sekunder\n",
        "\n",
        "matrix = [[1, 2, 0], [4, 5, 6], [7, 8, 9]]\n",
        "hasil = selisih_diagonal(matrix)\n",
        "print(hasil)"
      ],
      "metadata": {
        "colab": {
          "base_uri": "https://localhost:8080/"
        },
        "id": "KYmSlOBBOoAz",
        "outputId": "31f09b3f-8045-4c82-b583-443dc497c85d"
      },
      "execution_count": 8,
      "outputs": [
        {
          "output_type": "stream",
          "name": "stdout",
          "text": [
            "3\n"
          ]
        }
      ]
    }
  ]
}